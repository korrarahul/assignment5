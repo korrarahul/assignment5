{
  "nbformat": 4,
  "nbformat_minor": 0,
  "metadata": {
    "colab": {
      "provenance": []
    },
    "kernelspec": {
      "name": "python3",
      "display_name": "Python 3"
    },
    "language_info": {
      "name": "python"
    }
  },
  "cells": [
    {
      "cell_type": "code",
      "execution_count": 2,
      "metadata": {
        "colab": {
          "base_uri": "https://localhost:8080/"
        },
        "id": "g6HbMYHfZP8J",
        "outputId": "03c11e7c-05ba-4aaa-c5bc-33e0fc843c21"
      },
      "outputs": [
        {
          "output_type": "stream",
          "name": "stdout",
          "text": [
            "Accuracy: 0.5538461538461539\n",
            "Classification Report:\n",
            "               precision    recall  f1-score   support\n",
            "\n",
            "           1       0.47      0.85      0.61        20\n",
            "           2       0.57      0.15      0.24        26\n",
            "           3       0.00      0.00      0.00         1\n",
            "           5       0.40      0.50      0.44         4\n",
            "           6       1.00      0.67      0.80         3\n",
            "           7       0.79      1.00      0.88        11\n",
            "\n",
            "    accuracy                           0.55        65\n",
            "   macro avg       0.54      0.53      0.50        65\n",
            "weighted avg       0.58      0.55      0.50        65\n",
            "\n"
          ]
        }
      ],
      "source": [
        "import pandas as pd\n",
        "from sklearn.model_selection import train_test_split\n",
        "from sklearn.naive_bayes import GaussianNB\n",
        "from sklearn.metrics import classification_report, accuracy_score\n",
        "\n",
        "# Load the glass dataset\n",
        "glass = pd.read_csv(\"/content/drive/MyDrive/neural network assignment/NNDL_Code and Data/glass.csv\")\n",
        "\n",
        "# Split the dataset into features and target\n",
        "X = glass.iloc[:, :-1]\n",
        "y = glass.iloc[:, -1]\n",
        "\n",
        "# Split the dataset into training and testing parts\n",
        "X_train, X_test, y_train, y_test = train_test_split(X, y, test_size=0.3, random_state=4)\n",
        "\n",
        "# Fit the Naive Bayes model on the training data\n",
        "gnb = GaussianNB()\n",
        "gnb.fit(X_train, y_train)\n",
        "\n",
        "# Predict the target on the test data\n",
        "y_pred = gnb.predict(X_test)\n",
        "\n",
        "# Evaluate the model on the test data\n",
        "print(\"Accuracy:\", accuracy_score(y_test, y_pred))\n",
        "print(\"Classification Report:\\n\", classification_report(y_test, y_pred))"
      ]
    },
    {
      "cell_type": "code",
      "source": [
        "import pandas as pd\n",
        "import numpy as np\n",
        "from sklearn.model_selection import train_test_split\n",
        "from sklearn.naive_bayes import GaussianNB\n",
        "from sklearn.svm import SVC\n",
        "from sklearn.metrics import accuracy_score, classification_report\n",
        "\n",
        "# Load the glass dataset\n",
        "glass_data = pd.read_csv(\"/content/drive/MyDrive/neural network assignment/NNDL_Code and Data/glass.csv\")\n",
        "# Split the data into features and target\n",
        "X = glass_data.iloc[:, :-1].values\n",
        "y = glass_data.iloc[:, -1].values\n",
        "\n",
        "# Split the data into training and testing sets\n",
        "X_train, X_test, y_train, y_test = train_test_split(X, y, test_size=0.2, random_state=42)\n",
        "svm = SVC(kernel='linear')\n",
        "svm.fit(X_train, y_train)\n",
        "\n",
        "# Make predictions on the test set\n",
        "svm_y_pred = svm.predict(X_test)\n",
        "\n",
        "# Evaluate the model performance\n",
        "svm_acc = accuracy_score(y_test, svm_y_pred,)\n",
        "print(\"SVM Accuracy: {:.2f}%\".format(svm_acc * 100))\n",
        "print(\"\\nSVM Classification Report:\")\n",
        "print(classification_report(y_test, svm_y_pred, zero_division=1))"
      ],
      "metadata": {
        "colab": {
          "base_uri": "https://localhost:8080/"
        },
        "id": "6-eQDH6IbFg2",
        "outputId": "c1fce082-5986-4500-8633-30cd35f94f48"
      },
      "execution_count": 5,
      "outputs": [
        {
          "output_type": "stream",
          "name": "stdout",
          "text": [
            "SVM Accuracy: 74.42%\n",
            "\n",
            "SVM Classification Report:\n",
            "              precision    recall  f1-score   support\n",
            "\n",
            "           1       0.69      0.82      0.75        11\n",
            "           2       0.67      0.71      0.69        14\n",
            "           3       1.00      0.00      0.00         3\n",
            "           5       0.80      1.00      0.89         4\n",
            "           6       1.00      0.67      0.80         3\n",
            "           7       0.88      0.88      0.88         8\n",
            "\n",
            "    accuracy                           0.74        43\n",
            "   macro avg       0.84      0.68      0.67        43\n",
            "weighted avg       0.77      0.74      0.72        43\n",
            "\n"
          ]
        }
      ]
    }
  ]
}